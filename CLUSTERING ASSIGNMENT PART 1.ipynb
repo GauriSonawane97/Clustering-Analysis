{
 "cells": [
  {
   "cell_type": "code",
   "execution_count": 1,
   "metadata": {},
   "outputs": [],
   "source": [
    "import pandas as pd"
   ]
  },
  {
   "cell_type": "code",
   "execution_count": 2,
   "metadata": {},
   "outputs": [],
   "source": [
    "data1=pd.read_csv(\"C:/Users/gaurisonawane/Downloads/EastWestAirlines.csv\")"
   ]
  },
  {
   "cell_type": "code",
   "execution_count": 3,
   "metadata": {},
   "outputs": [
    {
     "data": {
      "text/html": [
       "<div>\n",
       "<style scoped>\n",
       "    .dataframe tbody tr th:only-of-type {\n",
       "        vertical-align: middle;\n",
       "    }\n",
       "\n",
       "    .dataframe tbody tr th {\n",
       "        vertical-align: top;\n",
       "    }\n",
       "\n",
       "    .dataframe thead th {\n",
       "        text-align: right;\n",
       "    }\n",
       "</style>\n",
       "<table border=\"1\" class=\"dataframe\">\n",
       "  <thead>\n",
       "    <tr style=\"text-align: right;\">\n",
       "      <th></th>\n",
       "      <th>ID#</th>\n",
       "      <th>Balance</th>\n",
       "      <th>Qual_miles</th>\n",
       "      <th>cc1_miles</th>\n",
       "      <th>cc2_miles</th>\n",
       "      <th>cc3_miles</th>\n",
       "      <th>Bonus_miles</th>\n",
       "      <th>Bonus_trans</th>\n",
       "      <th>Flight_miles_12mo</th>\n",
       "      <th>Flight_trans_12</th>\n",
       "      <th>Days_since_enroll</th>\n",
       "      <th>Award?</th>\n",
       "    </tr>\n",
       "  </thead>\n",
       "  <tbody>\n",
       "    <tr>\n",
       "      <th>0</th>\n",
       "      <td>1</td>\n",
       "      <td>28143</td>\n",
       "      <td>0</td>\n",
       "      <td>1</td>\n",
       "      <td>1</td>\n",
       "      <td>1</td>\n",
       "      <td>174</td>\n",
       "      <td>1</td>\n",
       "      <td>0</td>\n",
       "      <td>0</td>\n",
       "      <td>7000</td>\n",
       "      <td>0</td>\n",
       "    </tr>\n",
       "    <tr>\n",
       "      <th>1</th>\n",
       "      <td>2</td>\n",
       "      <td>19244</td>\n",
       "      <td>0</td>\n",
       "      <td>1</td>\n",
       "      <td>1</td>\n",
       "      <td>1</td>\n",
       "      <td>215</td>\n",
       "      <td>2</td>\n",
       "      <td>0</td>\n",
       "      <td>0</td>\n",
       "      <td>6968</td>\n",
       "      <td>0</td>\n",
       "    </tr>\n",
       "    <tr>\n",
       "      <th>2</th>\n",
       "      <td>3</td>\n",
       "      <td>41354</td>\n",
       "      <td>0</td>\n",
       "      <td>1</td>\n",
       "      <td>1</td>\n",
       "      <td>1</td>\n",
       "      <td>4123</td>\n",
       "      <td>4</td>\n",
       "      <td>0</td>\n",
       "      <td>0</td>\n",
       "      <td>7034</td>\n",
       "      <td>0</td>\n",
       "    </tr>\n",
       "    <tr>\n",
       "      <th>3</th>\n",
       "      <td>4</td>\n",
       "      <td>14776</td>\n",
       "      <td>0</td>\n",
       "      <td>1</td>\n",
       "      <td>1</td>\n",
       "      <td>1</td>\n",
       "      <td>500</td>\n",
       "      <td>1</td>\n",
       "      <td>0</td>\n",
       "      <td>0</td>\n",
       "      <td>6952</td>\n",
       "      <td>0</td>\n",
       "    </tr>\n",
       "    <tr>\n",
       "      <th>4</th>\n",
       "      <td>5</td>\n",
       "      <td>97752</td>\n",
       "      <td>0</td>\n",
       "      <td>4</td>\n",
       "      <td>1</td>\n",
       "      <td>1</td>\n",
       "      <td>43300</td>\n",
       "      <td>26</td>\n",
       "      <td>2077</td>\n",
       "      <td>4</td>\n",
       "      <td>6935</td>\n",
       "      <td>1</td>\n",
       "    </tr>\n",
       "  </tbody>\n",
       "</table>\n",
       "</div>"
      ],
      "text/plain": [
       "   ID#  Balance  Qual_miles  cc1_miles  cc2_miles  cc3_miles  Bonus_miles  \\\n",
       "0    1    28143           0          1          1          1          174   \n",
       "1    2    19244           0          1          1          1          215   \n",
       "2    3    41354           0          1          1          1         4123   \n",
       "3    4    14776           0          1          1          1          500   \n",
       "4    5    97752           0          4          1          1        43300   \n",
       "\n",
       "   Bonus_trans  Flight_miles_12mo  Flight_trans_12  Days_since_enroll  Award?  \n",
       "0            1                  0                0               7000       0  \n",
       "1            2                  0                0               6968       0  \n",
       "2            4                  0                0               7034       0  \n",
       "3            1                  0                0               6952       0  \n",
       "4           26               2077                4               6935       1  "
      ]
     },
     "execution_count": 3,
     "metadata": {},
     "output_type": "execute_result"
    }
   ],
   "source": [
    "data1.head()"
   ]
  },
  {
   "cell_type": "code",
   "execution_count": 7,
   "metadata": {},
   "outputs": [
    {
     "data": {
      "text/plain": [
       "(3999, 12)"
      ]
     },
     "execution_count": 7,
     "metadata": {},
     "output_type": "execute_result"
    }
   ],
   "source": [
    "data1.shape"
   ]
  },
  {
   "cell_type": "code",
   "execution_count": 8,
   "metadata": {},
   "outputs": [],
   "source": [
    "def norm_fun(i):\n",
    "    x = (i-i.mean())/(i.max()-i.min())\n",
    "    return (x)"
   ]
  },
  {
   "cell_type": "code",
   "execution_count": 10,
   "metadata": {},
   "outputs": [],
   "source": [
    "df = norm_fun(data1.iloc[:,1:])"
   ]
  },
  {
   "cell_type": "code",
   "execution_count": 11,
   "metadata": {},
   "outputs": [
    {
     "data": {
      "text/html": [
       "<div>\n",
       "<style scoped>\n",
       "    .dataframe tbody tr th:only-of-type {\n",
       "        vertical-align: middle;\n",
       "    }\n",
       "\n",
       "    .dataframe tbody tr th {\n",
       "        vertical-align: top;\n",
       "    }\n",
       "\n",
       "    .dataframe thead th {\n",
       "        text-align: right;\n",
       "    }\n",
       "</style>\n",
       "<table border=\"1\" class=\"dataframe\">\n",
       "  <thead>\n",
       "    <tr style=\"text-align: right;\">\n",
       "      <th></th>\n",
       "      <th>Balance</th>\n",
       "      <th>Qual_miles</th>\n",
       "      <th>cc1_miles</th>\n",
       "      <th>cc2_miles</th>\n",
       "      <th>cc3_miles</th>\n",
       "      <th>Bonus_miles</th>\n",
       "      <th>Bonus_trans</th>\n",
       "      <th>Flight_miles_12mo</th>\n",
       "      <th>Flight_trans_12</th>\n",
       "      <th>Days_since_enroll</th>\n",
       "      <th>Award?</th>\n",
       "    </tr>\n",
       "  </thead>\n",
       "  <tbody>\n",
       "    <tr>\n",
       "      <th>0</th>\n",
       "      <td>-0.026664</td>\n",
       "      <td>-0.012927</td>\n",
       "      <td>-0.264879</td>\n",
       "      <td>-0.007252</td>\n",
       "      <td>-0.003063</td>\n",
       "      <td>-0.064360</td>\n",
       "      <td>-0.123278</td>\n",
       "      <td>-0.014929</td>\n",
       "      <td>-0.025917</td>\n",
       "      <td>0.347413</td>\n",
       "      <td>-0.370343</td>\n",
       "    </tr>\n",
       "    <tr>\n",
       "      <th>1</th>\n",
       "      <td>-0.031884</td>\n",
       "      <td>-0.012927</td>\n",
       "      <td>-0.264879</td>\n",
       "      <td>-0.007252</td>\n",
       "      <td>-0.003063</td>\n",
       "      <td>-0.064205</td>\n",
       "      <td>-0.111650</td>\n",
       "      <td>-0.014929</td>\n",
       "      <td>-0.025917</td>\n",
       "      <td>0.343554</td>\n",
       "      <td>-0.370343</td>\n",
       "    </tr>\n",
       "    <tr>\n",
       "      <th>2</th>\n",
       "      <td>-0.018915</td>\n",
       "      <td>-0.012927</td>\n",
       "      <td>-0.264879</td>\n",
       "      <td>-0.007252</td>\n",
       "      <td>-0.003063</td>\n",
       "      <td>-0.049384</td>\n",
       "      <td>-0.088394</td>\n",
       "      <td>-0.014929</td>\n",
       "      <td>-0.025917</td>\n",
       "      <td>0.351512</td>\n",
       "      <td>-0.370343</td>\n",
       "    </tr>\n",
       "    <tr>\n",
       "      <th>3</th>\n",
       "      <td>-0.034505</td>\n",
       "      <td>-0.012927</td>\n",
       "      <td>-0.264879</td>\n",
       "      <td>-0.007252</td>\n",
       "      <td>-0.003063</td>\n",
       "      <td>-0.063124</td>\n",
       "      <td>-0.123278</td>\n",
       "      <td>-0.014929</td>\n",
       "      <td>-0.025917</td>\n",
       "      <td>0.341625</td>\n",
       "      <td>-0.370343</td>\n",
       "    </tr>\n",
       "    <tr>\n",
       "      <th>4</th>\n",
       "      <td>0.014166</td>\n",
       "      <td>-0.012927</td>\n",
       "      <td>0.485121</td>\n",
       "      <td>-0.007252</td>\n",
       "      <td>-0.003063</td>\n",
       "      <td>0.099191</td>\n",
       "      <td>0.167420</td>\n",
       "      <td>0.052469</td>\n",
       "      <td>0.049555</td>\n",
       "      <td>0.339576</td>\n",
       "      <td>0.629657</td>\n",
       "    </tr>\n",
       "  </tbody>\n",
       "</table>\n",
       "</div>"
      ],
      "text/plain": [
       "    Balance  Qual_miles  cc1_miles  cc2_miles  cc3_miles  Bonus_miles  \\\n",
       "0 -0.026664   -0.012927  -0.264879  -0.007252  -0.003063    -0.064360   \n",
       "1 -0.031884   -0.012927  -0.264879  -0.007252  -0.003063    -0.064205   \n",
       "2 -0.018915   -0.012927  -0.264879  -0.007252  -0.003063    -0.049384   \n",
       "3 -0.034505   -0.012927  -0.264879  -0.007252  -0.003063    -0.063124   \n",
       "4  0.014166   -0.012927   0.485121  -0.007252  -0.003063     0.099191   \n",
       "\n",
       "   Bonus_trans  Flight_miles_12mo  Flight_trans_12  Days_since_enroll  \\\n",
       "0    -0.123278          -0.014929        -0.025917           0.347413   \n",
       "1    -0.111650          -0.014929        -0.025917           0.343554   \n",
       "2    -0.088394          -0.014929        -0.025917           0.351512   \n",
       "3    -0.123278          -0.014929        -0.025917           0.341625   \n",
       "4     0.167420           0.052469         0.049555           0.339576   \n",
       "\n",
       "     Award?  \n",
       "0 -0.370343  \n",
       "1 -0.370343  \n",
       "2 -0.370343  \n",
       "3 -0.370343  \n",
       "4  0.629657  "
      ]
     },
     "execution_count": 11,
     "metadata": {},
     "output_type": "execute_result"
    }
   ],
   "source": [
    "df.head()"
   ]
  },
  {
   "cell_type": "code",
   "execution_count": 12,
   "metadata": {},
   "outputs": [],
   "source": [
    "#K-Means Clustering\n",
    "from sklearn.cluster import KMeans"
   ]
  },
  {
   "cell_type": "code",
   "execution_count": 13,
   "metadata": {},
   "outputs": [
    {
     "data": {
      "text/plain": [
       "KMeans(n_clusters=5)"
      ]
     },
     "execution_count": 13,
     "metadata": {},
     "output_type": "execute_result"
    }
   ],
   "source": [
    "model = KMeans(n_clusters = 5)\n",
    "model.fit(df)"
   ]
  },
  {
   "cell_type": "code",
   "execution_count": 14,
   "metadata": {},
   "outputs": [
    {
     "data": {
      "text/plain": [
       "array([2, 2, 2, ..., 3, 4, 4])"
      ]
     },
     "execution_count": 14,
     "metadata": {},
     "output_type": "execute_result"
    }
   ],
   "source": [
    "model.labels_"
   ]
  },
  {
   "cell_type": "code",
   "execution_count": 16,
   "metadata": {},
   "outputs": [],
   "source": [
    "md = pd.Series(model.labels_)\n",
    "data1['clust'] = md"
   ]
  },
  {
   "cell_type": "code",
   "execution_count": 18,
   "metadata": {},
   "outputs": [
    {
     "data": {
      "text/html": [
       "<div>\n",
       "<style scoped>\n",
       "    .dataframe tbody tr th:only-of-type {\n",
       "        vertical-align: middle;\n",
       "    }\n",
       "\n",
       "    .dataframe tbody tr th {\n",
       "        vertical-align: top;\n",
       "    }\n",
       "\n",
       "    .dataframe thead th {\n",
       "        text-align: right;\n",
       "    }\n",
       "</style>\n",
       "<table border=\"1\" class=\"dataframe\">\n",
       "  <thead>\n",
       "    <tr style=\"text-align: right;\">\n",
       "      <th></th>\n",
       "      <th>Balance</th>\n",
       "      <th>Qual_miles</th>\n",
       "      <th>cc1_miles</th>\n",
       "      <th>cc2_miles</th>\n",
       "    </tr>\n",
       "    <tr>\n",
       "      <th>clust</th>\n",
       "      <th></th>\n",
       "      <th></th>\n",
       "      <th></th>\n",
       "      <th></th>\n",
       "    </tr>\n",
       "  </thead>\n",
       "  <tbody>\n",
       "    <tr>\n",
       "      <th>0</th>\n",
       "      <td>118297.325243</td>\n",
       "      <td>73.467638</td>\n",
       "      <td>3.584142</td>\n",
       "      <td>1.001618</td>\n",
       "    </tr>\n",
       "    <tr>\n",
       "      <th>1</th>\n",
       "      <td>83529.153046</td>\n",
       "      <td>290.453195</td>\n",
       "      <td>1.156018</td>\n",
       "      <td>1.032689</td>\n",
       "    </tr>\n",
       "    <tr>\n",
       "      <th>2</th>\n",
       "      <td>49921.633641</td>\n",
       "      <td>89.903226</td>\n",
       "      <td>1.122120</td>\n",
       "      <td>1.019585</td>\n",
       "    </tr>\n",
       "    <tr>\n",
       "      <th>3</th>\n",
       "      <td>108317.387376</td>\n",
       "      <td>198.336634</td>\n",
       "      <td>3.915842</td>\n",
       "      <td>1.001238</td>\n",
       "    </tr>\n",
       "    <tr>\n",
       "      <th>4</th>\n",
       "      <td>33097.301357</td>\n",
       "      <td>94.131783</td>\n",
       "      <td>1.070736</td>\n",
       "      <td>1.016473</td>\n",
       "    </tr>\n",
       "  </tbody>\n",
       "</table>\n",
       "</div>"
      ],
      "text/plain": [
       "             Balance  Qual_miles  cc1_miles  cc2_miles\n",
       "clust                                                 \n",
       "0      118297.325243   73.467638   3.584142   1.001618\n",
       "1       83529.153046  290.453195   1.156018   1.032689\n",
       "2       49921.633641   89.903226   1.122120   1.019585\n",
       "3      108317.387376  198.336634   3.915842   1.001238\n",
       "4       33097.301357   94.131783   1.070736   1.016473"
      ]
     },
     "execution_count": 18,
     "metadata": {},
     "output_type": "execute_result"
    }
   ],
   "source": [
    "data1.iloc[:,1:5].groupby(data1.clust).mean()"
   ]
  },
  {
   "cell_type": "code",
   "execution_count": 19,
   "metadata": {},
   "outputs": [],
   "source": [
    "#Hierarchical Clustering\n",
    "import scipy.cluster.hierarchy as sch\n",
    "from scipy.cluster.hierarchy import linkage"
   ]
  },
  {
   "cell_type": "code",
   "execution_count": 20,
   "metadata": {},
   "outputs": [],
   "source": [
    "z = linkage(df, method = \"complete\", metric = \"euclidean\")"
   ]
  },
  {
   "cell_type": "code",
   "execution_count": 21,
   "metadata": {},
   "outputs": [],
   "source": [
    "import matplotlib.pyplot as plt"
   ]
  },
  {
   "cell_type": "code",
   "execution_count": 22,
   "metadata": {},
   "outputs": [
    {
     "data": {
      "image/png": "[encoded data removed]",
      "text/plain": [
       "<Figure size 1080x360 with 1 Axes>"
      ]
     },
     "metadata": {
      "needs_background": "light"
     },
     "output_type": "display_data"
    }
   ],
   "source": [
    "plt.figure(figsize = (15,5));\n",
    "plt.title('Hierarchical Clustering Dendogram');\n",
    "plt.xlabel('Index');\n",
    "plt.ylabel('Distance')\n",
    "sch.dendrogram(z, leaf_rotation = 0., leaf_font_size = 8.)\n",
    "plt.show()\n"
   ]
  },
  {
   "cell_type": "code",
   "execution_count": 23,
   "metadata": {},
   "outputs": [],
   "source": [
    "#DBSCAN\n",
    "from sklearn.cluster import DBSCAN"
   ]
  },
  {
   "cell_type": "code",
   "execution_count": 24,
   "metadata": {},
   "outputs": [],
   "source": [
    "array = df.values"
   ]
  },
  {
   "cell_type": "code",
   "execution_count": 25,
   "metadata": {},
   "outputs": [
    {
     "data": {
      "text/plain": [
       "array([[-2.66643092e-02, -1.29273886e-02, -2.64878720e-01, ...,\n",
       "        -2.59168566e-02,  3.47412661e-01, -3.70342586e-01],\n",
       "       [-3.18841600e-02, -1.29273886e-02, -2.64878720e-01, ...,\n",
       "        -2.59168566e-02,  3.43554450e-01, -3.70342586e-01],\n",
       "       [-1.89151858e-02, -1.29273886e-02, -2.64878720e-01, ...,\n",
       "        -2.59168566e-02,  3.51512010e-01, -3.70342586e-01],\n",
       "       ...,\n",
       "       [-2.53841239e-06, -1.29273886e-02,  2.35121280e-01, ...,\n",
       "        -2.59168566e-02, -3.27533083e-01,  6.29657414e-01],\n",
       "       [-1.09701494e-02, -1.29273886e-02, -2.64878720e-01, ...,\n",
       "        -7.04893204e-03, -3.27653652e-01, -3.70342586e-01],\n",
       "       [-4.14029530e-02, -1.29273886e-02, -2.64878720e-01, ...,\n",
       "        -2.59168566e-02, -3.28015359e-01, -3.70342586e-01]])"
      ]
     },
     "execution_count": 25,
     "metadata": {},
     "output_type": "execute_result"
    }
   ],
   "source": [
    "array"
   ]
  },
  {
   "cell_type": "code",
   "execution_count": 26,
   "metadata": {},
   "outputs": [],
   "source": [
    "from sklearn.preprocessing import StandardScaler"
   ]
  },
  {
   "cell_type": "code",
   "execution_count": 27,
   "metadata": {},
   "outputs": [],
   "source": [
    "std_scaler = StandardScaler().fit(array)\n",
    "X = std_scaler.transform(array)"
   ]
  },
  {
   "cell_type": "code",
   "execution_count": 28,
   "metadata": {},
   "outputs": [
    {
     "data": {
      "text/plain": [
       "array([[-4.51140783e-01, -1.86298687e-01, -7.69578406e-01, ...,\n",
       "        -3.62167870e-01,  1.39545434e+00, -7.66919299e-01],\n",
       "       [-5.39456874e-01, -1.86298687e-01, -7.69578406e-01, ...,\n",
       "        -3.62167870e-01,  1.37995704e+00, -7.66919299e-01],\n",
       "       [-3.20031232e-01, -1.86298687e-01, -7.69578406e-01, ...,\n",
       "        -3.62167870e-01,  1.41192021e+00, -7.66919299e-01],\n",
       "       ...,\n",
       "       [-4.29480975e-05, -1.86298687e-01,  6.83121167e-01, ...,\n",
       "        -3.62167870e-01, -1.31560393e+00,  1.30391816e+00],\n",
       "       [-1.85606976e-01, -1.86298687e-01, -7.69578406e-01, ...,\n",
       "        -9.85033311e-02, -1.31608822e+00, -7.66919299e-01],\n",
       "       [-7.00507951e-01, -1.86298687e-01, -7.69578406e-01, ...,\n",
       "        -3.62167870e-01, -1.31754109e+00, -7.66919299e-01]])"
      ]
     },
     "execution_count": 28,
     "metadata": {},
     "output_type": "execute_result"
    }
   ],
   "source": [
    "X"
   ]
  },
  {
   "cell_type": "code",
   "execution_count": 29,
   "metadata": {},
   "outputs": [
    {
     "data": {
      "text/plain": [
       "DBSCAN(eps=0.8)"
      ]
     },
     "execution_count": 29,
     "metadata": {},
     "output_type": "execute_result"
    }
   ],
   "source": [
    "dbscan = DBSCAN(eps = 0.8, min_samples = 5)\n",
    "dbscan.fit(X)"
   ]
  },
  {
   "cell_type": "code",
   "execution_count": 30,
   "metadata": {},
   "outputs": [
    {
     "data": {
      "text/plain": [
       "array([0, 0, 0, ..., 1, 0, 0], dtype=int64)"
      ]
     },
     "execution_count": 30,
     "metadata": {},
     "output_type": "execute_result"
    }
   ],
   "source": [
    "dbscan.labels_"
   ]
  },
  {
   "cell_type": "code",
   "execution_count": 31,
   "metadata": {},
   "outputs": [
    {
     "data": {
      "text/html": [
       "<div>\n",
       "<style scoped>\n",
       "    .dataframe tbody tr th:only-of-type {\n",
       "        vertical-align: middle;\n",
       "    }\n",
       "\n",
       "    .dataframe tbody tr th {\n",
       "        vertical-align: top;\n",
       "    }\n",
       "\n",
       "    .dataframe thead th {\n",
       "        text-align: right;\n",
       "    }\n",
       "</style>\n",
       "<table border=\"1\" class=\"dataframe\">\n",
       "  <thead>\n",
       "    <tr style=\"text-align: right;\">\n",
       "      <th></th>\n",
       "      <th>cluster</th>\n",
       "    </tr>\n",
       "  </thead>\n",
       "  <tbody>\n",
       "    <tr>\n",
       "      <th>0</th>\n",
       "      <td>0</td>\n",
       "    </tr>\n",
       "    <tr>\n",
       "      <th>1</th>\n",
       "      <td>0</td>\n",
       "    </tr>\n",
       "    <tr>\n",
       "      <th>2</th>\n",
       "      <td>0</td>\n",
       "    </tr>\n",
       "    <tr>\n",
       "      <th>3</th>\n",
       "      <td>0</td>\n",
       "    </tr>\n",
       "    <tr>\n",
       "      <th>4</th>\n",
       "      <td>-1</td>\n",
       "    </tr>\n",
       "    <tr>\n",
       "      <th>...</th>\n",
       "      <td>...</td>\n",
       "    </tr>\n",
       "    <tr>\n",
       "      <th>3994</th>\n",
       "      <td>1</td>\n",
       "    </tr>\n",
       "    <tr>\n",
       "      <th>3995</th>\n",
       "      <td>1</td>\n",
       "    </tr>\n",
       "    <tr>\n",
       "      <th>3996</th>\n",
       "      <td>1</td>\n",
       "    </tr>\n",
       "    <tr>\n",
       "      <th>3997</th>\n",
       "      <td>0</td>\n",
       "    </tr>\n",
       "    <tr>\n",
       "      <th>3998</th>\n",
       "      <td>0</td>\n",
       "    </tr>\n",
       "  </tbody>\n",
       "</table>\n",
       "<p>3999 rows × 1 columns</p>\n",
       "</div>"
      ],
      "text/plain": [
       "      cluster\n",
       "0           0\n",
       "1           0\n",
       "2           0\n",
       "3           0\n",
       "4          -1\n",
       "...       ...\n",
       "3994        1\n",
       "3995        1\n",
       "3996        1\n",
       "3997        0\n",
       "3998        0\n",
       "\n",
       "[3999 rows x 1 columns]"
      ]
     },
     "execution_count": 31,
     "metadata": {},
     "output_type": "execute_result"
    }
   ],
   "source": [
    "cl = pd.DataFrame(dbscan.labels_, columns = ['cluster'])\n",
    "cl"
   ]
  },
  {
   "cell_type": "code",
   "execution_count": 32,
   "metadata": {},
   "outputs": [
    {
     "data": {
      "text/html": [
       "<div>\n",
       "<style scoped>\n",
       "    .dataframe tbody tr th:only-of-type {\n",
       "        vertical-align: middle;\n",
       "    }\n",
       "\n",
       "    .dataframe tbody tr th {\n",
       "        vertical-align: top;\n",
       "    }\n",
       "\n",
       "    .dataframe thead th {\n",
       "        text-align: right;\n",
       "    }\n",
       "</style>\n",
       "<table border=\"1\" class=\"dataframe\">\n",
       "  <thead>\n",
       "    <tr style=\"text-align: right;\">\n",
       "      <th></th>\n",
       "      <th>Balance</th>\n",
       "      <th>Qual_miles</th>\n",
       "      <th>cc1_miles</th>\n",
       "      <th>cc2_miles</th>\n",
       "      <th>cc3_miles</th>\n",
       "      <th>Bonus_miles</th>\n",
       "      <th>Bonus_trans</th>\n",
       "      <th>Flight_miles_12mo</th>\n",
       "      <th>Flight_trans_12</th>\n",
       "      <th>Days_since_enroll</th>\n",
       "      <th>Award?</th>\n",
       "      <th>cluster</th>\n",
       "    </tr>\n",
       "  </thead>\n",
       "  <tbody>\n",
       "    <tr>\n",
       "      <th>0</th>\n",
       "      <td>-0.026664</td>\n",
       "      <td>-0.012927</td>\n",
       "      <td>-0.264879</td>\n",
       "      <td>-0.007252</td>\n",
       "      <td>-0.003063</td>\n",
       "      <td>-0.064360</td>\n",
       "      <td>-0.123278</td>\n",
       "      <td>-0.014929</td>\n",
       "      <td>-0.025917</td>\n",
       "      <td>0.347413</td>\n",
       "      <td>-0.370343</td>\n",
       "      <td>0</td>\n",
       "    </tr>\n",
       "    <tr>\n",
       "      <th>1</th>\n",
       "      <td>-0.031884</td>\n",
       "      <td>-0.012927</td>\n",
       "      <td>-0.264879</td>\n",
       "      <td>-0.007252</td>\n",
       "      <td>-0.003063</td>\n",
       "      <td>-0.064205</td>\n",
       "      <td>-0.111650</td>\n",
       "      <td>-0.014929</td>\n",
       "      <td>-0.025917</td>\n",
       "      <td>0.343554</td>\n",
       "      <td>-0.370343</td>\n",
       "      <td>0</td>\n",
       "    </tr>\n",
       "    <tr>\n",
       "      <th>2</th>\n",
       "      <td>-0.018915</td>\n",
       "      <td>-0.012927</td>\n",
       "      <td>-0.264879</td>\n",
       "      <td>-0.007252</td>\n",
       "      <td>-0.003063</td>\n",
       "      <td>-0.049384</td>\n",
       "      <td>-0.088394</td>\n",
       "      <td>-0.014929</td>\n",
       "      <td>-0.025917</td>\n",
       "      <td>0.351512</td>\n",
       "      <td>-0.370343</td>\n",
       "      <td>0</td>\n",
       "    </tr>\n",
       "    <tr>\n",
       "      <th>3</th>\n",
       "      <td>-0.034505</td>\n",
       "      <td>-0.012927</td>\n",
       "      <td>-0.264879</td>\n",
       "      <td>-0.007252</td>\n",
       "      <td>-0.003063</td>\n",
       "      <td>-0.063124</td>\n",
       "      <td>-0.123278</td>\n",
       "      <td>-0.014929</td>\n",
       "      <td>-0.025917</td>\n",
       "      <td>0.341625</td>\n",
       "      <td>-0.370343</td>\n",
       "      <td>0</td>\n",
       "    </tr>\n",
       "    <tr>\n",
       "      <th>4</th>\n",
       "      <td>0.014166</td>\n",
       "      <td>-0.012927</td>\n",
       "      <td>0.485121</td>\n",
       "      <td>-0.007252</td>\n",
       "      <td>-0.003063</td>\n",
       "      <td>0.099191</td>\n",
       "      <td>0.167420</td>\n",
       "      <td>0.052469</td>\n",
       "      <td>0.049555</td>\n",
       "      <td>0.339576</td>\n",
       "      <td>0.629657</td>\n",
       "      <td>-1</td>\n",
       "    </tr>\n",
       "    <tr>\n",
       "      <th>...</th>\n",
       "      <td>...</td>\n",
       "      <td>...</td>\n",
       "      <td>...</td>\n",
       "      <td>...</td>\n",
       "      <td>...</td>\n",
       "      <td>...</td>\n",
       "      <td>...</td>\n",
       "      <td>...</td>\n",
       "      <td>...</td>\n",
       "      <td>...</td>\n",
       "      <td>...</td>\n",
       "      <td>...</td>\n",
       "    </tr>\n",
       "    <tr>\n",
       "      <th>3994</th>\n",
       "      <td>-0.032335</td>\n",
       "      <td>-0.012927</td>\n",
       "      <td>-0.264879</td>\n",
       "      <td>-0.007252</td>\n",
       "      <td>-0.003063</td>\n",
       "      <td>-0.032690</td>\n",
       "      <td>-0.088394</td>\n",
       "      <td>-0.008439</td>\n",
       "      <td>-0.007049</td>\n",
       "      <td>-0.327413</td>\n",
       "      <td>0.629657</td>\n",
       "      <td>1</td>\n",
       "    </tr>\n",
       "    <tr>\n",
       "      <th>3995</th>\n",
       "      <td>-0.005406</td>\n",
       "      <td>-0.012927</td>\n",
       "      <td>-0.264879</td>\n",
       "      <td>-0.007252</td>\n",
       "      <td>-0.003063</td>\n",
       "      <td>-0.061300</td>\n",
       "      <td>-0.076766</td>\n",
       "      <td>-0.014929</td>\n",
       "      <td>-0.025917</td>\n",
       "      <td>-0.328377</td>\n",
       "      <td>0.629657</td>\n",
       "      <td>1</td>\n",
       "    </tr>\n",
       "    <tr>\n",
       "      <th>3996</th>\n",
       "      <td>-0.000003</td>\n",
       "      <td>-0.012927</td>\n",
       "      <td>0.235121</td>\n",
       "      <td>-0.007252</td>\n",
       "      <td>-0.003063</td>\n",
       "      <td>0.031485</td>\n",
       "      <td>-0.041883</td>\n",
       "      <td>-0.014929</td>\n",
       "      <td>-0.025917</td>\n",
       "      <td>-0.327533</td>\n",
       "      <td>0.629657</td>\n",
       "      <td>1</td>\n",
       "    </tr>\n",
       "    <tr>\n",
       "      <th>3997</th>\n",
       "      <td>-0.010970</td>\n",
       "      <td>-0.012927</td>\n",
       "      <td>-0.264879</td>\n",
       "      <td>-0.007252</td>\n",
       "      <td>-0.003063</td>\n",
       "      <td>-0.063124</td>\n",
       "      <td>-0.123278</td>\n",
       "      <td>0.001296</td>\n",
       "      <td>-0.007049</td>\n",
       "      <td>-0.327654</td>\n",
       "      <td>-0.370343</td>\n",
       "      <td>0</td>\n",
       "    </tr>\n",
       "    <tr>\n",
       "      <th>3998</th>\n",
       "      <td>-0.041403</td>\n",
       "      <td>-0.012927</td>\n",
       "      <td>-0.264879</td>\n",
       "      <td>-0.007252</td>\n",
       "      <td>-0.003063</td>\n",
       "      <td>-0.065020</td>\n",
       "      <td>-0.134906</td>\n",
       "      <td>-0.014929</td>\n",
       "      <td>-0.025917</td>\n",
       "      <td>-0.328015</td>\n",
       "      <td>-0.370343</td>\n",
       "      <td>0</td>\n",
       "    </tr>\n",
       "  </tbody>\n",
       "</table>\n",
       "<p>3999 rows × 12 columns</p>\n",
       "</div>"
      ],
      "text/plain": [
       "       Balance  Qual_miles  cc1_miles  cc2_miles  cc3_miles  Bonus_miles  \\\n",
       "0    -0.026664   -0.012927  -0.264879  -0.007252  -0.003063    -0.064360   \n",
       "1    -0.031884   -0.012927  -0.264879  -0.007252  -0.003063    -0.064205   \n",
       "2    -0.018915   -0.012927  -0.264879  -0.007252  -0.003063    -0.049384   \n",
       "3    -0.034505   -0.012927  -0.264879  -0.007252  -0.003063    -0.063124   \n",
       "4     0.014166   -0.012927   0.485121  -0.007252  -0.003063     0.099191   \n",
       "...        ...         ...        ...        ...        ...          ...   \n",
       "3994 -0.032335   -0.012927  -0.264879  -0.007252  -0.003063    -0.032690   \n",
       "3995 -0.005406   -0.012927  -0.264879  -0.007252  -0.003063    -0.061300   \n",
       "3996 -0.000003   -0.012927   0.235121  -0.007252  -0.003063     0.031485   \n",
       "3997 -0.010970   -0.012927  -0.264879  -0.007252  -0.003063    -0.063124   \n",
       "3998 -0.041403   -0.012927  -0.264879  -0.007252  -0.003063    -0.065020   \n",
       "\n",
       "      Bonus_trans  Flight_miles_12mo  Flight_trans_12  Days_since_enroll  \\\n",
       "0       -0.123278          -0.014929        -0.025917           0.347413   \n",
       "1       -0.111650          -0.014929        -0.025917           0.343554   \n",
       "2       -0.088394          -0.014929        -0.025917           0.351512   \n",
       "3       -0.123278          -0.014929        -0.025917           0.341625   \n",
       "4        0.167420           0.052469         0.049555           0.339576   \n",
       "...           ...                ...              ...                ...   \n",
       "3994    -0.088394          -0.008439        -0.007049          -0.327413   \n",
       "3995    -0.076766          -0.014929        -0.025917          -0.328377   \n",
       "3996    -0.041883          -0.014929        -0.025917          -0.327533   \n",
       "3997    -0.123278           0.001296        -0.007049          -0.327654   \n",
       "3998    -0.134906          -0.014929        -0.025917          -0.328015   \n",
       "\n",
       "        Award?  cluster  \n",
       "0    -0.370343        0  \n",
       "1    -0.370343        0  \n",
       "2    -0.370343        0  \n",
       "3    -0.370343        0  \n",
       "4     0.629657       -1  \n",
       "...        ...      ...  \n",
       "3994  0.629657        1  \n",
       "3995  0.629657        1  \n",
       "3996  0.629657        1  \n",
       "3997 -0.370343        0  \n",
       "3998 -0.370343        0  \n",
       "\n",
       "[3999 rows x 12 columns]"
      ]
     },
     "execution_count": 32,
     "metadata": {},
     "output_type": "execute_result"
    }
   ],
   "source": [
    "pd.concat([df, cl], axis = 1)"
   ]
  },
  {
   "cell_type": "code",
   "execution_count": null,
   "metadata": {},
   "outputs": [],
   "source": []
  }
 ],
 "metadata": {
  "kernelspec": {
   "display_name": "Python 3",
   "language": "python",
   "name": "python3"
  },
  "language_info": {
   "codemirror_mode": {
    "name": "ipython",
    "version": 3
   },
   "file_extension": ".py",
   "mimetype": "text/x-python",
   "name": "python",
   "nbconvert_exporter": "python",
   "pygments_lexer": "ipython3",
   "version": "3.8.3"
  }
 },
 "nbformat": 4,
 "nbformat_minor": 4
}
